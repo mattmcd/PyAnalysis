{
 "cells": [
  {
   "cell_type": "code",
   "execution_count": 1,
   "metadata": {
    "collapsed": true
   },
   "outputs": [],
   "source": [
    "%matplotlib inline\n",
    "from pandas import Series, DataFrame\n",
    "import pandas as pd\n",
    "import numpy as np\n",
    "import matplotlib.pyplot as plt\n",
    "from __future__ import division"
   ]
  },
  {
   "cell_type": "code",
   "execution_count": 2,
   "metadata": {
    "collapsed": false
   },
   "outputs": [],
   "source": [
    "# Read in the movielens data\n",
    "dataDir = 'ml-1m/'\n",
    "fnames = ['users','movies','ratings']\n",
    "colNames = {'users': ['user_id', 'gender', 'age', 'occupation', 'zip'],\n",
    "           'movies': ['movie_id', 'title', 'genres'], \n",
    "           'ratings': ['user_id', 'movie_id', 'rating', 'timestamp']}\n",
    "all_data = {}\n",
    "for fname in fnames:\n",
    "    fpath = dataDir + fname + '.dat'\n",
    "    all_data[fname] = pd.read_table(fpath, delimiter='::', header=None, names=colNames[fname], engine='python')"
   ]
  },
  {
   "cell_type": "code",
   "execution_count": 3,
   "metadata": {
    "collapsed": false
   },
   "outputs": [
    {
     "data": {
      "text/html": [
       "<div style=\"max-height:1000px;max-width:1500px;overflow:auto;\">\n",
       "<table border=\"1\" class=\"dataframe\">\n",
       "  <thead>\n",
       "    <tr style=\"text-align: right;\">\n",
       "      <th></th>\n",
       "      <th>user_id</th>\n",
       "      <th>gender</th>\n",
       "      <th>age</th>\n",
       "      <th>occupation</th>\n",
       "      <th>zip</th>\n",
       "    </tr>\n",
       "  </thead>\n",
       "  <tbody>\n",
       "    <tr>\n",
       "      <th>6035</th>\n",
       "      <td> 6036</td>\n",
       "      <td> F</td>\n",
       "      <td> 25</td>\n",
       "      <td> 15</td>\n",
       "      <td> 32603</td>\n",
       "    </tr>\n",
       "    <tr>\n",
       "      <th>6036</th>\n",
       "      <td> 6037</td>\n",
       "      <td> F</td>\n",
       "      <td> 45</td>\n",
       "      <td>  1</td>\n",
       "      <td> 76006</td>\n",
       "    </tr>\n",
       "    <tr>\n",
       "      <th>6037</th>\n",
       "      <td> 6038</td>\n",
       "      <td> F</td>\n",
       "      <td> 56</td>\n",
       "      <td>  1</td>\n",
       "      <td> 14706</td>\n",
       "    </tr>\n",
       "    <tr>\n",
       "      <th>6038</th>\n",
       "      <td> 6039</td>\n",
       "      <td> F</td>\n",
       "      <td> 45</td>\n",
       "      <td>  0</td>\n",
       "      <td> 01060</td>\n",
       "    </tr>\n",
       "    <tr>\n",
       "      <th>6039</th>\n",
       "      <td> 6040</td>\n",
       "      <td> M</td>\n",
       "      <td> 25</td>\n",
       "      <td>  6</td>\n",
       "      <td> 11106</td>\n",
       "    </tr>\n",
       "  </tbody>\n",
       "</table>\n",
       "</div>"
      ],
      "text/plain": [
       "      user_id gender  age  occupation    zip\n",
       "6035     6036      F   25          15  32603\n",
       "6036     6037      F   45           1  76006\n",
       "6037     6038      F   56           1  14706\n",
       "6038     6039      F   45           0  01060\n",
       "6039     6040      M   25           6  11106"
      ]
     },
     "execution_count": 3,
     "metadata": {},
     "output_type": "execute_result"
    }
   ],
   "source": [
    "all_data['users'].tail()"
   ]
  },
  {
   "cell_type": "code",
   "execution_count": 4,
   "metadata": {
    "collapsed": false
   },
   "outputs": [
    {
     "data": {
      "text/html": [
       "<div style=\"max-height:1000px;max-width:1500px;overflow:auto;\">\n",
       "<table border=\"1\" class=\"dataframe\">\n",
       "  <thead>\n",
       "    <tr style=\"text-align: right;\">\n",
       "      <th></th>\n",
       "      <th>movie_id</th>\n",
       "      <th>title</th>\n",
       "      <th>genres</th>\n",
       "    </tr>\n",
       "  </thead>\n",
       "  <tbody>\n",
       "    <tr>\n",
       "      <th>0</th>\n",
       "      <td> 1</td>\n",
       "      <td>                   Toy Story (1995)</td>\n",
       "      <td>  Animation|Children's|Comedy</td>\n",
       "    </tr>\n",
       "    <tr>\n",
       "      <th>1</th>\n",
       "      <td> 2</td>\n",
       "      <td>                     Jumanji (1995)</td>\n",
       "      <td> Adventure|Children's|Fantasy</td>\n",
       "    </tr>\n",
       "    <tr>\n",
       "      <th>2</th>\n",
       "      <td> 3</td>\n",
       "      <td>            Grumpier Old Men (1995)</td>\n",
       "      <td>               Comedy|Romance</td>\n",
       "    </tr>\n",
       "    <tr>\n",
       "      <th>3</th>\n",
       "      <td> 4</td>\n",
       "      <td>           Waiting to Exhale (1995)</td>\n",
       "      <td>                 Comedy|Drama</td>\n",
       "    </tr>\n",
       "    <tr>\n",
       "      <th>4</th>\n",
       "      <td> 5</td>\n",
       "      <td> Father of the Bride Part II (1995)</td>\n",
       "      <td>                       Comedy</td>\n",
       "    </tr>\n",
       "  </tbody>\n",
       "</table>\n",
       "</div>"
      ],
      "text/plain": [
       "   movie_id                               title                        genres\n",
       "0         1                    Toy Story (1995)   Animation|Children's|Comedy\n",
       "1         2                      Jumanji (1995)  Adventure|Children's|Fantasy\n",
       "2         3             Grumpier Old Men (1995)                Comedy|Romance\n",
       "3         4            Waiting to Exhale (1995)                  Comedy|Drama\n",
       "4         5  Father of the Bride Part II (1995)                        Comedy"
      ]
     },
     "execution_count": 4,
     "metadata": {},
     "output_type": "execute_result"
    }
   ],
   "source": [
    "all_data['movies'].irow(range(5))"
   ]
  },
  {
   "cell_type": "code",
   "execution_count": 5,
   "metadata": {
    "collapsed": false
   },
   "outputs": [],
   "source": [
    "genr_iter = (set(x.split('|')) for x in all_data['movies']['genres'])\n",
    "genres = sorted(set.union(*genr_iter))"
   ]
  },
  {
   "cell_type": "code",
   "execution_count": 6,
   "metadata": {
    "collapsed": false
   },
   "outputs": [],
   "source": [
    "# Create a mapping from genre to a power of 2 code so we can use bit masking to test for genre membership\n",
    "genreCode = 2**np.arange(len(genres))\n",
    "genreMap = dict( zip(genres, genreCode))"
   ]
  },
  {
   "cell_type": "code",
   "execution_count": 7,
   "metadata": {
    "collapsed": false
   },
   "outputs": [
    {
     "name": "stdout",
     "output_type": "stream",
     "text": [
      "Help on built-in function reduce in module __builtin__:\n",
      "\n",
      "reduce(...)\n",
      "    reduce(function, sequence[, initial]) -> value\n",
      "    \n",
      "    Apply a function of two arguments cumulatively to the items of a sequence,\n",
      "    from left to right, so as to reduce the sequence to a single value.\n",
      "    For example, reduce(lambda x, y: x+y, [1, 2, 3, 4, 5]) calculates\n",
      "    ((((1+2)+3)+4)+5).  If initial is present, it is placed before the items\n",
      "    of the sequence in the calculation, and serves as a default when the\n",
      "    sequence is empty.\n",
      "\n"
     ]
    }
   ],
   "source": [
    "help(reduce)"
   ]
  },
  {
   "cell_type": "code",
   "execution_count": 8,
   "metadata": {
    "collapsed": false
   },
   "outputs": [
    {
     "data": {
      "text/plain": [
       "8208"
      ]
     },
     "execution_count": 8,
     "metadata": {},
     "output_type": "execute_result"
    }
   ],
   "source": [
    "reduce(lambda acc, s: acc + genreMap[s], 'Comedy|Romance'.split('|'), 0)"
   ]
  },
  {
   "cell_type": "code",
   "execution_count": 9,
   "metadata": {
    "collapsed": false
   },
   "outputs": [],
   "source": [
    "all_data['movies']['genre code'] = all_data['movies']['genres'].map(\n",
    "    lambda s: reduce(lambda acc, s: acc + genreMap[s], s.split('|'), 0))"
   ]
  },
  {
   "cell_type": "code",
   "execution_count": 10,
   "metadata": {
    "collapsed": false
   },
   "outputs": [
    {
     "data": {
      "text/html": [
       "<div style=\"max-height:1000px;max-width:1500px;overflow:auto;\">\n",
       "<table border=\"1\" class=\"dataframe\">\n",
       "  <thead>\n",
       "    <tr style=\"text-align: right;\">\n",
       "      <th></th>\n",
       "      <th>movie_id</th>\n",
       "      <th>title</th>\n",
       "      <th>genres</th>\n",
       "      <th>genre code</th>\n",
       "    </tr>\n",
       "  </thead>\n",
       "  <tbody>\n",
       "    <tr>\n",
       "      <th>0</th>\n",
       "      <td> 1</td>\n",
       "      <td>                   Toy Story (1995)</td>\n",
       "      <td>  Animation|Children's|Comedy</td>\n",
       "      <td>   28</td>\n",
       "    </tr>\n",
       "    <tr>\n",
       "      <th>1</th>\n",
       "      <td> 2</td>\n",
       "      <td>                     Jumanji (1995)</td>\n",
       "      <td> Adventure|Children's|Fantasy</td>\n",
       "      <td>  266</td>\n",
       "    </tr>\n",
       "    <tr>\n",
       "      <th>2</th>\n",
       "      <td> 3</td>\n",
       "      <td>            Grumpier Old Men (1995)</td>\n",
       "      <td>               Comedy|Romance</td>\n",
       "      <td> 8208</td>\n",
       "    </tr>\n",
       "    <tr>\n",
       "      <th>3</th>\n",
       "      <td> 4</td>\n",
       "      <td>           Waiting to Exhale (1995)</td>\n",
       "      <td>                 Comedy|Drama</td>\n",
       "      <td>  144</td>\n",
       "    </tr>\n",
       "    <tr>\n",
       "      <th>4</th>\n",
       "      <td> 5</td>\n",
       "      <td> Father of the Bride Part II (1995)</td>\n",
       "      <td>                       Comedy</td>\n",
       "      <td>   16</td>\n",
       "    </tr>\n",
       "  </tbody>\n",
       "</table>\n",
       "</div>"
      ],
      "text/plain": [
       "   movie_id                               title                        genres  \\\n",
       "0         1                    Toy Story (1995)   Animation|Children's|Comedy   \n",
       "1         2                      Jumanji (1995)  Adventure|Children's|Fantasy   \n",
       "2         3             Grumpier Old Men (1995)                Comedy|Romance   \n",
       "3         4            Waiting to Exhale (1995)                  Comedy|Drama   \n",
       "4         5  Father of the Bride Part II (1995)                        Comedy   \n",
       "\n",
       "   genre code  \n",
       "0          28  \n",
       "1         266  \n",
       "2        8208  \n",
       "3         144  \n",
       "4          16  "
      ]
     },
     "execution_count": 10,
     "metadata": {},
     "output_type": "execute_result"
    }
   ],
   "source": [
    "all_data['movies'].head()"
   ]
  },
  {
   "cell_type": "code",
   "execution_count": 11,
   "metadata": {
    "collapsed": false
   },
   "outputs": [
    {
     "name": "stdout",
     "output_type": "stream",
     "text": [
      "The slowest run took 5.19 times longer than the fastest. This could mean that an intermediate result is being cached \n",
      "1000 loops, best of 3: 238 µs per loop\n"
     ]
    }
   ],
   "source": [
    "%timeit all_data['movies']['genre code'] & genreMap['Animation']"
   ]
  },
  {
   "cell_type": "code",
   "execution_count": 12,
   "metadata": {
    "collapsed": false
   },
   "outputs": [
    {
     "name": "stdout",
     "output_type": "stream",
     "text": [
      "1000 loops, best of 3: 1.04 ms per loop\n"
     ]
    }
   ],
   "source": [
    "%timeit all_data['movies']['genres'].map(lambda s: 'Animation' in s)"
   ]
  },
  {
   "cell_type": "code",
   "execution_count": 13,
   "metadata": {
    "collapsed": true
   },
   "outputs": [],
   "source": [
    "frame = pd.merge( pd.merge( all_data['users'], all_data['ratings']), all_data['movies'])"
   ]
  },
  {
   "cell_type": "code",
   "execution_count": 14,
   "metadata": {
    "collapsed": false
   },
   "outputs": [
    {
     "data": {
      "text/plain": [
       "3706"
      ]
     },
     "execution_count": 14,
     "metadata": {},
     "output_type": "execute_result"
    }
   ],
   "source": [
    "len(frame['title'].unique())"
   ]
  },
  {
   "cell_type": "code",
   "execution_count": 15,
   "metadata": {
    "collapsed": false
   },
   "outputs": [
    {
     "data": {
      "text/plain": [
       "gender  genre code\n",
       "F       False         200790\n",
       "        True           45650\n",
       "M       False         541962\n",
       "        True          211807\n",
       "Name: rating, dtype: int64"
      ]
     },
     "execution_count": 15,
     "metadata": {},
     "output_type": "execute_result"
    }
   ],
   "source": [
    "result = frame.groupby(['gender', frame['genre code'] & genreMap['Action']])['rating']\n",
    "result.count()"
   ]
  },
  {
   "cell_type": "code",
   "execution_count": 16,
   "metadata": {
    "collapsed": false
   },
   "outputs": [
    {
     "data": {
      "text/plain": [
       "gender  genre code\n",
       "F       False         3.649948\n",
       "        True          3.490252\n",
       "M       False         3.599164\n",
       "        True          3.491386\n",
       "Name: rating, dtype: float64"
      ]
     },
     "execution_count": 16,
     "metadata": {},
     "output_type": "execute_result"
    }
   ],
   "source": [
    "result.mean()"
   ]
  },
  {
   "cell_type": "code",
   "execution_count": 17,
   "metadata": {
    "collapsed": false
   },
   "outputs": [],
   "source": [
    "# Consider all the people who watch films of a particular genre - is there a difference in gender ratings?\n",
    "def gender_diff(genre, male_index, genre_index):\n",
    "    female = frame['rating'][(~male_index) & genre_index]\n",
    "    male = frame['rating'][male_index & genre_index]\n",
    "    return male.mean() - female.mean(), np.sqrt(male.var()/male.count() + female.var()/female.count()), "
   ]
  },
  {
   "cell_type": "code",
   "execution_count": 29,
   "metadata": {
    "collapsed": false
   },
   "outputs": [],
   "source": [
    "gender_data = {}\n",
    "male_index = frame['gender'] == 'M'\n",
    "nMale = male_index.sum()\n",
    "nFemale = (~male_index).sum()\n",
    "def genre_index(genre):\n",
    "    return frame['genre code'] & genreMap[genre]\n",
    "\n",
    "for genre in genres:\n",
    "    gind = genre_index(genre)\n",
    "    mu, st = gender_diff(genre, male_index, gind)\n",
    "    male_prop = (male_index & gind).sum()/nMale\n",
    "    female_prop = ((~male_index) & gind).sum()/nFemale\n",
    "    gender_data[genre] = {'diff': mu, 'stderr':st, 'm': male_prop, 'f': female_prop, 'diff pop': male_prop - female_prop}"
   ]
  },
  {
   "cell_type": "code",
   "execution_count": 30,
   "metadata": {
    "collapsed": false
   },
   "outputs": [],
   "source": [
    "gender_frame = DataFrame(gender_data).T"
   ]
  },
  {
   "cell_type": "code",
   "execution_count": 31,
   "metadata": {
    "collapsed": true
   },
   "outputs": [],
   "source": [
    "gender_frame['is sig'] = np.abs(gender_frame['diff']) >= 1.96*gender_frame['stderr']"
   ]
  },
  {
   "cell_type": "code",
   "execution_count": 32,
   "metadata": {
    "collapsed": false
   },
   "outputs": [
    {
     "data": {
      "text/html": [
       "<div style=\"max-height:1000px;max-width:1500px;overflow:auto;\">\n",
       "<table border=\"1\" class=\"dataframe\">\n",
       "  <thead>\n",
       "    <tr style=\"text-align: right;\">\n",
       "      <th></th>\n",
       "      <th>diff</th>\n",
       "      <th>diff pop</th>\n",
       "      <th>f</th>\n",
       "      <th>m</th>\n",
       "      <th>stderr</th>\n",
       "      <th>is sig</th>\n",
       "    </tr>\n",
       "  </thead>\n",
       "  <tbody>\n",
       "    <tr>\n",
       "      <th>Western</th>\n",
       "      <td> 0.103208</td>\n",
       "      <td> 0.008718</td>\n",
       "      <td> 0.014109</td>\n",
       "      <td> 0.022827</td>\n",
       "      <td> 0.020662</td>\n",
       "      <td> True</td>\n",
       "    </tr>\n",
       "    <tr>\n",
       "      <th>Film-Noir</th>\n",
       "      <td> 0.074167</td>\n",
       "      <td> 0.001601</td>\n",
       "      <td> 0.017051</td>\n",
       "      <td> 0.018652</td>\n",
       "      <td> 0.016861</td>\n",
       "      <td> True</td>\n",
       "    </tr>\n",
       "    <tr>\n",
       "      <th>Crime</th>\n",
       "      <td> 0.024388</td>\n",
       "      <td> 0.016993</td>\n",
       "      <td> 0.066718</td>\n",
       "      <td> 0.083711</td>\n",
       "      <td> 0.009546</td>\n",
       "      <td> True</td>\n",
       "    </tr>\n",
       "    <tr>\n",
       "      <th>Sci-Fi</th>\n",
       "      <td> 0.019697</td>\n",
       "      <td> 0.061143</td>\n",
       "      <td> 0.111183</td>\n",
       "      <td> 0.172326</td>\n",
       "      <td> 0.007803</td>\n",
       "      <td> True</td>\n",
       "    </tr>\n",
       "    <tr>\n",
       "      <th>Adventure</th>\n",
       "      <td>-0.044753</td>\n",
       "      <td> 0.030543</td>\n",
       "      <td> 0.110907</td>\n",
       "      <td> 0.141450</td>\n",
       "      <td> 0.007652</td>\n",
       "      <td> True</td>\n",
       "    </tr>\n",
       "    <tr>\n",
       "      <th>Comedy</th>\n",
       "      <td>-0.068271</td>\n",
       "      <td>-0.045304</td>\n",
       "      <td> 0.390647</td>\n",
       "      <td> 0.345343</td>\n",
       "      <td> 0.004210</td>\n",
       "      <td> True</td>\n",
       "    </tr>\n",
       "    <tr>\n",
       "      <th>Animation</th>\n",
       "      <td>-0.083367</td>\n",
       "      <td>-0.008368</td>\n",
       "      <td> 0.049590</td>\n",
       "      <td> 0.041222</td>\n",
       "      <td> 0.011477</td>\n",
       "      <td> True</td>\n",
       "    </tr>\n",
       "    <tr>\n",
       "      <th>Fantasy</th>\n",
       "      <td>-0.086473</td>\n",
       "      <td> 0.001218</td>\n",
       "      <td> 0.035376</td>\n",
       "      <td> 0.036593</td>\n",
       "      <td> 0.013875</td>\n",
       "      <td> True</td>\n",
       "    </tr>\n",
       "    <tr>\n",
       "      <th>Romance</th>\n",
       "      <td>-0.100317</td>\n",
       "      <td>-0.075108</td>\n",
       "      <td> 0.204094</td>\n",
       "      <td> 0.128986</td>\n",
       "      <td> 0.005835</td>\n",
       "      <td> True</td>\n",
       "    </tr>\n",
       "    <tr>\n",
       "      <th>Musical</th>\n",
       "      <td>-0.212775</td>\n",
       "      <td>-0.017617</td>\n",
       "      <td> 0.054800</td>\n",
       "      <td> 0.037184</td>\n",
       "      <td> 0.011246</td>\n",
       "      <td> True</td>\n",
       "    </tr>\n",
       "    <tr>\n",
       "      <th>Children's</th>\n",
       "      <td>-0.213586</td>\n",
       "      <td>-0.019014</td>\n",
       "      <td> 0.086500</td>\n",
       "      <td> 0.067486</td>\n",
       "      <td> 0.009273</td>\n",
       "      <td> True</td>\n",
       "    </tr>\n",
       "  </tbody>\n",
       "</table>\n",
       "</div>"
      ],
      "text/plain": [
       "                diff  diff pop         f         m    stderr is sig\n",
       "Western     0.103208  0.008718  0.014109  0.022827  0.020662   True\n",
       "Film-Noir   0.074167  0.001601  0.017051  0.018652  0.016861   True\n",
       "Crime       0.024388  0.016993  0.066718  0.083711  0.009546   True\n",
       "Sci-Fi      0.019697  0.061143  0.111183  0.172326  0.007803   True\n",
       "Adventure  -0.044753  0.030543  0.110907  0.141450  0.007652   True\n",
       "Comedy     -0.068271 -0.045304  0.390647  0.345343  0.004210   True\n",
       "Animation  -0.083367 -0.008368  0.049590  0.041222  0.011477   True\n",
       "Fantasy    -0.086473  0.001218  0.035376  0.036593  0.013875   True\n",
       "Romance    -0.100317 -0.075108  0.204094  0.128986  0.005835   True\n",
       "Musical    -0.212775 -0.017617  0.054800  0.037184  0.011246   True\n",
       "Children's -0.213586 -0.019014  0.086500  0.067486  0.009273   True"
      ]
     },
     "execution_count": 32,
     "metadata": {},
     "output_type": "execute_result"
    }
   ],
   "source": [
    "gender_frame[gender_frame['is sig']].sort('diff', ascending=False)"
   ]
  },
  {
   "cell_type": "code",
   "execution_count": 22,
   "metadata": {
    "collapsed": false
   },
   "outputs": [
    {
     "data": {
      "text/html": [
       "<div style=\"max-height:1000px;max-width:1500px;overflow:auto;\">\n",
       "<table border=\"1\" class=\"dataframe\">\n",
       "  <thead>\n",
       "    <tr style=\"text-align: right;\">\n",
       "      <th></th>\n",
       "      <th>diff</th>\n",
       "      <th>diff pop</th>\n",
       "      <th>f</th>\n",
       "      <th>m</th>\n",
       "      <th>stderr</th>\n",
       "      <th>is sig</th>\n",
       "    </tr>\n",
       "  </thead>\n",
       "  <tbody>\n",
       "    <tr>\n",
       "      <th>Action</th>\n",
       "      <td> 0.001134</td>\n",
       "      <td> 0.095759</td>\n",
       "      <td> 0.185238</td>\n",
       "      <td> 0.280997</td>\n",
       "      <td> 0.005879</td>\n",
       "      <td> False</td>\n",
       "    </tr>\n",
       "    <tr>\n",
       "      <th>Documentary</th>\n",
       "      <td>-0.017581</td>\n",
       "      <td> 0.000048</td>\n",
       "      <td> 0.007872</td>\n",
       "      <td> 0.007920</td>\n",
       "      <td> 0.026968</td>\n",
       "      <td> False</td>\n",
       "    </tr>\n",
       "    <tr>\n",
       "      <th>Drama</th>\n",
       "      <td> 0.000927</td>\n",
       "      <td>-0.058158</td>\n",
       "      <td> 0.398284</td>\n",
       "      <td> 0.340125</td>\n",
       "      <td> 0.003925</td>\n",
       "      <td> False</td>\n",
       "    </tr>\n",
       "    <tr>\n",
       "      <th>Horror</th>\n",
       "      <td> 0.015021</td>\n",
       "      <td> 0.022537</td>\n",
       "      <td> 0.059386</td>\n",
       "      <td> 0.081923</td>\n",
       "      <td> 0.011466</td>\n",
       "      <td> False</td>\n",
       "    </tr>\n",
       "    <tr>\n",
       "      <th>Mystery</th>\n",
       "      <td>-0.024539</td>\n",
       "      <td>-0.000412</td>\n",
       "      <td> 0.040480</td>\n",
       "      <td> 0.040068</td>\n",
       "      <td> 0.012599</td>\n",
       "      <td> False</td>\n",
       "    </tr>\n",
       "    <tr>\n",
       "      <th>Thriller</th>\n",
       "      <td>-0.003675</td>\n",
       "      <td> 0.034606</td>\n",
       "      <td> 0.163561</td>\n",
       "      <td> 0.198167</td>\n",
       "      <td> 0.006319</td>\n",
       "      <td> False</td>\n",
       "    </tr>\n",
       "    <tr>\n",
       "      <th>War</th>\n",
       "      <td> 0.000237</td>\n",
       "      <td> 0.015029</td>\n",
       "      <td> 0.057186</td>\n",
       "      <td> 0.072216</td>\n",
       "      <td> 0.010074</td>\n",
       "      <td> False</td>\n",
       "    </tr>\n",
       "  </tbody>\n",
       "</table>\n",
       "</div>"
      ],
      "text/plain": [
       "                 diff  diff pop         f         m    stderr is sig\n",
       "Action       0.001134  0.095759  0.185238  0.280997  0.005879  False\n",
       "Documentary -0.017581  0.000048  0.007872  0.007920  0.026968  False\n",
       "Drama        0.000927 -0.058158  0.398284  0.340125  0.003925  False\n",
       "Horror       0.015021  0.022537  0.059386  0.081923  0.011466  False\n",
       "Mystery     -0.024539 -0.000412  0.040480  0.040068  0.012599  False\n",
       "Thriller    -0.003675  0.034606  0.163561  0.198167  0.006319  False\n",
       "War          0.000237  0.015029  0.057186  0.072216  0.010074  False"
      ]
     },
     "execution_count": 22,
     "metadata": {},
     "output_type": "execute_result"
    }
   ],
   "source": [
    "gender_frame[-gender_frame['is sig']]"
   ]
  },
  {
   "cell_type": "code",
   "execution_count": 23,
   "metadata": {
    "collapsed": false
   },
   "outputs": [
    {
     "data": {
      "text/plain": [
       "753769"
      ]
     },
     "execution_count": 23,
     "metadata": {},
     "output_type": "execute_result"
    }
   ],
   "source": [
    "male_index.sum()"
   ]
  },
  {
   "cell_type": "code",
   "execution_count": 24,
   "metadata": {
    "collapsed": false
   },
   "outputs": [
    {
     "data": {
      "text/plain": [
       "246440"
      ]
     },
     "execution_count": 24,
     "metadata": {},
     "output_type": "execute_result"
    }
   ],
   "source": [
    "nFemale"
   ]
  },
  {
   "cell_type": "code",
   "execution_count": 25,
   "metadata": {
    "collapsed": false
   },
   "outputs": [
    {
     "data": {
      "text/plain": [
       "753769"
      ]
     },
     "execution_count": 25,
     "metadata": {},
     "output_type": "execute_result"
    }
   ],
   "source": [
    "nMale"
   ]
  },
  {
   "cell_type": "code",
   "execution_count": 48,
   "metadata": {
    "collapsed": false
   },
   "outputs": [],
   "source": [
    "ct = pd.crosstab(frame.rating, [frame.gender, genre_index(\"Children's\") ], margins=True)"
   ]
  },
  {
   "cell_type": "code",
   "execution_count": 60,
   "metadata": {
    "collapsed": false
   },
   "outputs": [
    {
     "data": {
      "text/plain": [
       "MultiIndex(levels=[[u'All', u'F', u'M'], [False, True, u'']],\n",
       "           labels=[[1, 1, 2, 2, 0], [0, 1, 0, 1, 2]],\n",
       "           names=[u'gender', u'genre code'])"
      ]
     },
     "execution_count": 60,
     "metadata": {},
     "output_type": "execute_result"
    }
   ],
   "source": [
    "ct.columns"
   ]
  },
  {
   "cell_type": "code",
   "execution_count": 42,
   "metadata": {
    "collapsed": false
   },
   "outputs": [],
   "source": [
    "grouped = frame.rating.groupby([frame['gender'],genre_index('Horror')]).mean()"
   ]
  },
  {
   "cell_type": "code",
   "execution_count": 43,
   "metadata": {
    "collapsed": false
   },
   "outputs": [
    {
     "data": {
      "text/plain": [
       "gender  genre code\n",
       "F       False         3.646725\n",
       "        True          3.202870\n",
       "M       False         3.600198\n",
       "        True          3.217891\n",
       "Name: rating, dtype: float64"
      ]
     },
     "execution_count": 43,
     "metadata": {},
     "output_type": "execute_result"
    }
   ],
   "source": [
    "grouped"
   ]
  },
  {
   "cell_type": "code",
   "execution_count": 44,
   "metadata": {
    "collapsed": false
   },
   "outputs": [
    {
     "name": "stdout",
     "output_type": "stream",
     "text": [
      "('F', False)\n",
      "0     5\n",
      "5     4\n",
      "7     5\n",
      "8     3\n",
      "19    4\n",
      "20    4\n",
      "22    5\n",
      "23    5\n",
      "24    5\n",
      "26    3\n",
      "27    2\n",
      "36    4\n",
      "37    4\n",
      "39    4\n",
      "43    5\n",
      "...\n",
      "1000176    5\n",
      "1000177    4\n",
      "1000182    4\n",
      "1000184    4\n",
      "1000186    1\n",
      "1000188    4\n",
      "1000192    4\n",
      "1000196    4\n",
      "1000197    3\n",
      "1000198    1\n",
      "1000199    5\n",
      "1000200    3\n",
      "1000201    3\n",
      "1000202    4\n",
      "1000207    5\n",
      "Name: rating, Length: 231805, dtype: int64\n",
      "('F', True)\n",
      "104706    4\n",
      "104708    1\n",
      "104716    3\n",
      "104728    1\n",
      "104732    3\n",
      "104737    1\n",
      "104756    2\n",
      "104758    1\n",
      "104759    2\n",
      "104767    4\n",
      "104774    2\n",
      "104778    4\n",
      "104782    3\n",
      "104783    4\n",
      "104784    3\n",
      "...\n",
      "998891     1\n",
      "998898     3\n",
      "998905     1\n",
      "999276     3\n",
      "999282     2\n",
      "999283     2\n",
      "999550     4\n",
      "999697     2\n",
      "999702     1\n",
      "999841     4\n",
      "999870     1\n",
      "999936     4\n",
      "999942     3\n",
      "999943     2\n",
      "1000003    3\n",
      "Name: rating, Length: 14635, dtype: int64\n",
      "('M', False)\n",
      "1     5\n",
      "2     4\n",
      "3     4\n",
      "4     5\n",
      "6     5\n",
      "9     5\n",
      "10    5\n",
      "11    3\n",
      "12    4\n",
      "13    4\n",
      "14    4\n",
      "15    4\n",
      "16    5\n",
      "17    5\n",
      "18    5\n",
      "...\n",
      "1000181    2\n",
      "1000183    4\n",
      "1000185    3\n",
      "1000187    3\n",
      "1000189    5\n",
      "1000190    3\n",
      "1000191    3\n",
      "1000193    3\n",
      "1000194    1\n",
      "1000195    5\n",
      "1000203    3\n",
      "1000204    5\n",
      "1000205    3\n",
      "1000206    1\n",
      "1000208    4\n",
      "Name: rating, Length: 692018, dtype: int64\n",
      "('M', True)\n",
      "104705    3\n",
      "104707    3\n",
      "104709    5\n",
      "104710    3\n",
      "104711    4\n",
      "104712    4\n",
      "104713    3\n",
      "104714    3\n",
      "104715    3\n",
      "104717    3\n",
      "104718    4\n",
      "104719    1\n",
      "104720    4\n",
      "104721    4\n",
      "104722    4\n",
      "...\n",
      "999937     3\n",
      "999938     2\n",
      "999939     2\n",
      "999940     4\n",
      "999941     3\n",
      "1000001    2\n",
      "1000002    1\n",
      "1000004    1\n",
      "1000013    1\n",
      "1000014    2\n",
      "1000091    1\n",
      "1000092    1\n",
      "1000093    2\n",
      "1000104    3\n",
      "1000113    3\n",
      "Name: rating, Length: 61751, dtype: int64\n"
     ]
    }
   ],
   "source": [
    "for name, group in frame['rating'].groupby([frame['gender'],genre_index('Horror')]):\n",
    "    print(name)\n",
    "    print(group)"
   ]
  },
  {
   "cell_type": "code",
   "execution_count": null,
   "metadata": {
    "collapsed": true
   },
   "outputs": [],
   "source": []
  }
 ],
 "metadata": {
  "kernelspec": {
   "display_name": "Python 2",
   "language": "python",
   "name": "python2"
  },
  "language_info": {
   "codemirror_mode": {
    "name": "ipython",
    "version": 2
   },
   "file_extension": ".py",
   "mimetype": "text/x-python",
   "name": "python",
   "nbconvert_exporter": "python",
   "pygments_lexer": "ipython2",
   "version": "2.7.6"
  }
 },
 "nbformat": 4,
 "nbformat_minor": 0
}
