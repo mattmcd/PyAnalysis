{
 "cells": [
  {
   "cell_type": "code",
   "execution_count": 1,
   "metadata": {
    "collapsed": true
   },
   "outputs": [],
   "source": [
    "import numpy as np\n",
    "import pandas as pd\n",
    "from pandas import Series, DataFrame\n",
    "import matplotlib.pyplot as plt\n",
    "%matplotlib inline"
   ]
  },
  {
   "cell_type": "code",
   "execution_count": 5,
   "metadata": {
    "collapsed": false
   },
   "outputs": [],
   "source": [
    "# Read the training data\n",
    "raw = pd.read_table( 'input/train.csv', delimiter=',')"
   ]
  },
  {
   "cell_type": "code",
   "execution_count": 6,
   "metadata": {
    "collapsed": false
   },
   "outputs": [
    {
     "data": {
      "text/html": [
       "<div style=\"max-height:1000px;max-width:1500px;overflow:auto;\">\n",
       "<table border=\"1\" class=\"dataframe\">\n",
       "  <thead>\n",
       "    <tr style=\"text-align: right;\">\n",
       "      <th></th>\n",
       "      <th>PassengerId</th>\n",
       "      <th>Survived</th>\n",
       "      <th>Pclass</th>\n",
       "      <th>Name</th>\n",
       "      <th>Sex</th>\n",
       "      <th>Age</th>\n",
       "      <th>SibSp</th>\n",
       "      <th>Parch</th>\n",
       "      <th>Ticket</th>\n",
       "      <th>Fare</th>\n",
       "      <th>Cabin</th>\n",
       "      <th>Embarked</th>\n",
       "    </tr>\n",
       "  </thead>\n",
       "  <tbody>\n",
       "    <tr>\n",
       "      <th>0</th>\n",
       "      <td> 1</td>\n",
       "      <td> 0</td>\n",
       "      <td> 3</td>\n",
       "      <td>                           Braund, Mr. Owen Harris</td>\n",
       "      <td>   male</td>\n",
       "      <td> 22</td>\n",
       "      <td> 1</td>\n",
       "      <td> 0</td>\n",
       "      <td>        A/5 21171</td>\n",
       "      <td>  7.2500</td>\n",
       "      <td>  NaN</td>\n",
       "      <td> S</td>\n",
       "    </tr>\n",
       "    <tr>\n",
       "      <th>1</th>\n",
       "      <td> 2</td>\n",
       "      <td> 1</td>\n",
       "      <td> 1</td>\n",
       "      <td> Cumings, Mrs. John Bradley (Florence Briggs Th...</td>\n",
       "      <td> female</td>\n",
       "      <td> 38</td>\n",
       "      <td> 1</td>\n",
       "      <td> 0</td>\n",
       "      <td>         PC 17599</td>\n",
       "      <td> 71.2833</td>\n",
       "      <td>  C85</td>\n",
       "      <td> C</td>\n",
       "    </tr>\n",
       "    <tr>\n",
       "      <th>2</th>\n",
       "      <td> 3</td>\n",
       "      <td> 1</td>\n",
       "      <td> 3</td>\n",
       "      <td>                            Heikkinen, Miss. Laina</td>\n",
       "      <td> female</td>\n",
       "      <td> 26</td>\n",
       "      <td> 0</td>\n",
       "      <td> 0</td>\n",
       "      <td> STON/O2. 3101282</td>\n",
       "      <td>  7.9250</td>\n",
       "      <td>  NaN</td>\n",
       "      <td> S</td>\n",
       "    </tr>\n",
       "    <tr>\n",
       "      <th>3</th>\n",
       "      <td> 4</td>\n",
       "      <td> 1</td>\n",
       "      <td> 1</td>\n",
       "      <td>      Futrelle, Mrs. Jacques Heath (Lily May Peel)</td>\n",
       "      <td> female</td>\n",
       "      <td> 35</td>\n",
       "      <td> 1</td>\n",
       "      <td> 0</td>\n",
       "      <td>           113803</td>\n",
       "      <td> 53.1000</td>\n",
       "      <td> C123</td>\n",
       "      <td> S</td>\n",
       "    </tr>\n",
       "    <tr>\n",
       "      <th>4</th>\n",
       "      <td> 5</td>\n",
       "      <td> 0</td>\n",
       "      <td> 3</td>\n",
       "      <td>                          Allen, Mr. William Henry</td>\n",
       "      <td>   male</td>\n",
       "      <td> 35</td>\n",
       "      <td> 0</td>\n",
       "      <td> 0</td>\n",
       "      <td>           373450</td>\n",
       "      <td>  8.0500</td>\n",
       "      <td>  NaN</td>\n",
       "      <td> S</td>\n",
       "    </tr>\n",
       "  </tbody>\n",
       "</table>\n",
       "</div>"
      ],
      "text/plain": [
       "   PassengerId  Survived  Pclass  \\\n",
       "0            1         0       3   \n",
       "1            2         1       1   \n",
       "2            3         1       3   \n",
       "3            4         1       1   \n",
       "4            5         0       3   \n",
       "\n",
       "                                                Name     Sex  Age  SibSp  \\\n",
       "0                            Braund, Mr. Owen Harris    male   22      1   \n",
       "1  Cumings, Mrs. John Bradley (Florence Briggs Th...  female   38      1   \n",
       "2                             Heikkinen, Miss. Laina  female   26      0   \n",
       "3       Futrelle, Mrs. Jacques Heath (Lily May Peel)  female   35      1   \n",
       "4                           Allen, Mr. William Henry    male   35      0   \n",
       "\n",
       "   Parch            Ticket     Fare Cabin Embarked  \n",
       "0      0         A/5 21171   7.2500   NaN        S  \n",
       "1      0          PC 17599  71.2833   C85        C  \n",
       "2      0  STON/O2. 3101282   7.9250   NaN        S  \n",
       "3      0            113803  53.1000  C123        S  \n",
       "4      0            373450   8.0500   NaN        S  "
      ]
     },
     "execution_count": 6,
     "metadata": {},
     "output_type": "execute_result"
    }
   ],
   "source": [
    "raw.head()"
   ]
  },
  {
   "cell_type": "code",
   "execution_count": 35,
   "metadata": {
    "collapsed": false
   },
   "outputs": [
    {
     "data": {
      "text/plain": [
       "(array([  54.,   46.,  177.,  169.,  118.,   70.,   45.,   24.,    9.,    2.]),\n",
       " array([  0.42 ,   8.378,  16.336,  24.294,  32.252,  40.21 ,  48.168,\n",
       "         56.126,  64.084,  72.042,  80.   ]),\n",
       " <a list of 10 Patch objects>)"
      ]
     },
     "execution_count": 35,
     "metadata": {},
     "output_type": "execute_result"
    },
    {
     "data": {
      "image/png": "[encoded data removed]",
      "text/plain": [
       "<matplotlib.figure.Figure at 0x7f8ade1fd6d0>"
      ]
     },
     "metadata": {},
     "output_type": "display_data"
    }
   ],
   "source": [
    "plt.hist(raw.Age.dropna())"
   ]
  },
  {
   "cell_type": "code",
   "execution_count": 37,
   "metadata": {
    "collapsed": false
   },
   "outputs": [
    {
     "data": {
      "text/plain": [
       "([array([  18.,   27.,  114.,  104.,   66.,   46.,   24.,   15.,    9.,    1.]),\n",
       "  array([ 36.,  19.,  63.,  65.,  52.,  24.,  21.,   9.,   0.,   1.])],\n",
       " array([  0.42 ,   8.378,  16.336,  24.294,  32.252,  40.21 ,  48.168,\n",
       "         56.126,  64.084,  72.042,  80.   ]),\n",
       " <a list of 2 Lists of Patches objects>)"
      ]
     },
     "execution_count": 37,
     "metadata": {},
     "output_type": "execute_result"
    },
    {
     "data": {
      "image/png": "[encoded data removed]",
      "text/plain": [
       "<matplotlib.figure.Figure at 0x7f8ade0172d0>"
      ]
     },
     "metadata": {},
     "output_type": "display_data"
    }
   ],
   "source": [
    "plt.hist([raw['Age'][raw['Survived']==0].dropna(), raw['Age'][raw['Survived']==1].dropna()])"
   ]
  },
  {
   "cell_type": "code",
   "execution_count": 27,
   "metadata": {
    "collapsed": false
   },
   "outputs": [],
   "source": [
    "raw['Surnames'] = Series([x.split(',')[0] for x in raw.Name])"
   ]
  },
  {
   "cell_type": "code",
   "execution_count": 28,
   "metadata": {
    "collapsed": false
   },
   "outputs": [
    {
     "data": {
      "text/plain": [
       "667"
      ]
     },
     "execution_count": 28,
     "metadata": {},
     "output_type": "execute_result"
    }
   ],
   "source": [
    "len(raw['Surnames'].unique())"
   ]
  },
  {
   "cell_type": "code",
   "execution_count": 31,
   "metadata": {
    "collapsed": false
   },
   "outputs": [
    {
     "data": {
      "text/plain": [
       "array(['Braund', 'Cumings', 'Heikkinen', 'Futrelle', 'Allen', 'Moran',\n",
       "       'McCarthy', 'Palsson', 'Johnson', 'Nasser', 'Sandstrom', 'Bonnell',\n",
       "       'Saundercock', 'Andersson', 'Vestrom', 'Hewlett', 'Rice',\n",
       "       'Williams', 'Vander Planke', 'Masselmani', 'Fynney', 'Beesley',\n",
       "       'McGowan', 'Sloper', 'Asplund', 'Emir', 'Fortune', \"O'Dwyer\",\n",
       "       'Todoroff', 'Uruchurtu', 'Spencer', 'Glynn', 'Wheadon', 'Meyer',\n",
       "       'Holverson', 'Mamee', 'Cann', 'Nicola-Yarred', 'Ahlin', 'Turpin',\n",
       "       'Kraeff', 'Laroche', 'Devaney', 'Rogers', 'Lennon', \"O'Driscoll\",\n",
       "       'Samaan', 'Arnold-Franchi', 'Panula', 'Nosworthy', 'Harper',\n",
       "       'Faunthorpe', 'Ostby', 'Woolner', 'Rugg', 'Novel', 'West',\n",
       "       'Goodwin', 'Sirayanian', 'Icard', 'Harris', 'Skoog', 'Stewart',\n",
       "       'Moubarek', 'Nye', 'Crease', 'Kink', 'Jenkin', 'Hood',\n",
       "       'Chronopoulos', 'Bing', 'Moen', 'Staneff', 'Moutal', 'Caldwell',\n",
       "       'Dowdell', 'Waelens', 'Sheerlinck', 'McDermott', 'Carrau', 'Ilett',\n",
       "       'Backstrom', 'Ford', 'Slocovski', 'Celotti', 'Christmann',\n",
       "       'Andreasson', 'Chaffee', 'Dean', 'Coxon', 'Shorney', 'Goldschmidt',\n",
       "       'Greenfield', 'Doling', 'Kantor', 'Petranec', 'Petroff', 'White',\n",
       "       'Johansson', 'Gustafsson', 'Mionoff', 'Salkjelsvik', 'Moss',\n",
       "       'Rekic', 'Porter', 'Zabour', 'Barton', 'Jussila', 'Attalah',\n",
       "       'Pekoniemi', 'Connors', 'Baxter', 'Hickman', 'Moore', 'Webber',\n",
       "       'McMahon', 'Madsen', 'Peter', 'Ekstrom', 'Drazenoic', 'Coelho',\n",
       "       'Robins', 'Weisz', 'Sobey', 'Richard', 'Newsom', 'Osen', 'Giglio',\n",
       "       'Boulos', 'Nysten', 'Hakkarainen', 'Burke', 'Andrew', 'Nicholls',\n",
       "       'Navratil', 'Byles', 'Bateman', 'Pears', 'Meo', 'van Billiard',\n",
       "       'Olsen', 'Gilnagh', 'Corn', 'Smiljanic', 'Sage', 'Cribb', 'Watt',\n",
       "       'Bengtsson', 'Calic', 'Goldsmith', 'Chibnall', 'Baumann', 'Ling',\n",
       "       'Van der hoef', 'Sivola', 'Smith', 'Klasen', 'Lefebre', 'Isham',\n",
       "       'Hale', 'Leonard', 'Pernot', 'Becker', 'Kink-Heilmann', 'Rood',\n",
       "       \"O'Brien\", 'Romaine', 'Bourke', 'Turcin', 'Pinsky', 'Carbines',\n",
       "       'Andersen-Jensen', 'Brown', 'Lurette', 'Mernagh', 'Madigan',\n",
       "       'Yrois', 'Vande Walle', 'Johanson', 'Youseff', 'Cohen', 'Strom',\n",
       "       'Albimona', 'Carr', 'Blank', 'Ali', 'Cameron', 'Perkin', 'Givard',\n",
       "       'Kiernan', 'Newell', 'Honkanen', 'Jacobsohn', 'Bazzani',\n",
       "       'Sunderland', 'Bracken', 'Green', 'Nenkoff', 'Hoyt', 'Berglund',\n",
       "       'Mellors', 'Lovell', 'Fahlstrom', 'Larsson', 'Sjostedt', 'Leyson',\n",
       "       'Harknett', 'Hold', 'Collyer', 'Pengelly', 'Hunt', 'Murphy',\n",
       "       'Coleridge', 'Maenpaa', 'Minahan', 'Lindahl', 'Hamalainen',\n",
       "       'Beckwith', 'Carter', 'Reed', 'Stead', 'Lobb', 'Rosblom', 'Touma',\n",
       "       'Thorne', 'Cherry', 'Ward', 'Parrish', 'Taussig', 'Harrison',\n",
       "       'Henry', 'Reeves', 'Persson', 'Graham', 'Bissette', 'Cairns',\n",
       "       'Tornquist', 'Mellinger', 'Natsch', 'Healy', 'Andrews', 'Lindblom',\n",
       "       'Parkes', 'Abbott', 'Duane', 'Olsson', 'de Pelsmaeker', 'Dorking',\n",
       "       'Stankovic', 'de Mulder', 'Naidenoff', 'Hosono', 'Connolly',\n",
       "       'Barber', 'Bishop', 'Levy', 'Haas', 'Mineff', 'Lewy', 'Hanna',\n",
       "       'Allison', 'Saalfeld', 'Kelly', 'McCoy', 'Keane', 'Fleming',\n",
       "       'Penasco y Castellana', 'Abelson', 'Francatelli', 'Hays', 'Ryerson',\n",
       "       'Lahtinen', 'Hendekovic', 'Hart', 'Nilsson', 'Moraweck', 'Wick',\n",
       "       'Spedden', 'Dennis', 'Danoff', 'Slayter', 'Young', 'Nysveen',\n",
       "       'Ball', 'Hippach', 'Partner', 'Frauenthal', 'Denkoff', 'Burns',\n",
       "       'Dahl', 'Blackwell', 'Collander', 'Sedgwick', 'Fox', 'Davison',\n",
       "       'Coutts', 'Dimic', 'Odahl', 'Williams-Lambert', 'Elias', 'Yousif',\n",
       "       'Vanden Steen', 'Bowerman', 'Funk', 'McGovern', 'Mockler',\n",
       "       'del Carlo', 'Barbara', 'Asim', 'Adahl', 'Warren', 'Moussa',\n",
       "       'Jermyn', 'Aubart', 'Harder', 'Wiklund', 'Beavan', 'Ringhini',\n",
       "       'Landergren', 'Widener', 'Betros', 'Bidois', 'Nakid', 'Tikkanen',\n",
       "       'Plotcharsky', 'Davies', 'Buss', 'Sadlier', 'Lehmann', 'Jansson',\n",
       "       'McKane', 'Pain', 'Trout', 'Niskanen', 'Adams', 'Oreskovic', 'Gale',\n",
       "       'Widegren', 'Richards', 'Birkeland', 'Sdycoff', 'Cunningham',\n",
       "       'Sundman', 'Meek', 'Drew', 'Silven', 'Matthews', 'Van Impe',\n",
       "       'Gheorgheff', 'Charters', 'Zimmerman', 'Danbom', 'Wiseman',\n",
       "       'Clarke', 'Phillips', 'Flynn', 'Pickard', 'Bjornstrom-Steffansson',\n",
       "       'Thorneycroft', 'Louch', 'Kallio', 'Silvey', 'Kvillner', 'Hampe',\n",
       "       'Petterson', 'Reynaldo', 'Johannesen-Bratthammer', 'Dodge',\n",
       "       'Seward', 'Baclini', 'Peuchen', 'Hagland', 'Foreman', 'Goldenberg',\n",
       "       'Peduzzi', 'Jalsevac', 'Millet', 'Kenyon', 'Toomey', \"O'Connor\",\n",
       "       'Anderson', 'Morley', 'Gee', 'Milling', 'Maisner', 'Goncalves',\n",
       "       'Campbell', 'Smart', 'Scanlan', 'Keefe', 'Cacic', 'Jerwan',\n",
       "       'Strandberg', 'Clifford', 'Renouf', 'Karlsson', 'Hirvonen', 'Frost',\n",
       "       'Rouse', 'Turkula', 'Kent', 'Somerton', 'Windelov', 'Molson',\n",
       "       'Artagaveytia', 'Stanley', 'Yousseff', 'Eustis', 'Shellard',\n",
       "       'Svensson', 'Canavan', \"O'Sullivan\", 'Laitinen', 'Maioni', 'Quick',\n",
       "       'Bradley', 'Lang', 'Daly', 'McGough', 'Rothschild', 'Coleff',\n",
       "       'Walker', 'Lemore', 'Ryan', 'Angle', 'Pavlovic', 'Perreault',\n",
       "       'Vovk', 'Lahoud', 'Kassem', 'Farrell', 'Ridsdale', 'Farthing',\n",
       "       'Salonen', 'Hocking', 'Toufik', 'Butt', 'LeRoy', 'Risien',\n",
       "       'Frolicher', 'Crosby', 'Beane', 'Douglas', 'Nicholson',\n",
       "       'Padro y Manent', 'Thayer', 'Sharp', 'Leeni', 'Ohman', 'Wright',\n",
       "       'Duff Gordon', 'Robbins', 'de Messemaeker', 'Morrow', 'Sivic',\n",
       "       'Norman', 'Simmons', 'Meanwell', 'Stoytcheff', 'Doharr', 'Jonsson',\n",
       "       'Appleton', 'Rush', 'Patchett', 'Garside', 'Caram', 'Christy',\n",
       "       'Downton', 'Ross', 'Paulner', 'Jarvis', 'Frolicher-Stehli',\n",
       "       'Gilinski', 'Murdlin', 'Rintamaki', 'Stephenson', 'Elsbury',\n",
       "       'Chapman', 'Leitch', 'Slabenoff', 'Harrington', 'Torber', 'Homer',\n",
       "       'Lindell', 'Karaic', 'Daniel', 'Shutes', 'Jardin', 'Horgan',\n",
       "       'Brocklebank', 'Herman', 'Gavey', 'Yasbeck', 'Kimball', 'Hansen',\n",
       "       'Bowen', 'Sutton', 'Kirkland', 'Longley', 'Bostandyeff',\n",
       "       \"O'Connell\", 'Barkworth', 'Lundahl', 'Stahelin-Maeglin', 'Parr',\n",
       "       'Davis', 'Leinonen', 'Jensen', 'Sagesser', 'Foo', 'Cor',\n",
       "       'Simonius-Blumer', 'Willey', 'Mitkoff', 'Kalvik', \"O'Leary\",\n",
       "       'Hegarty', 'Radeff', 'Eitemiller', 'Badt', 'Colley', 'Lindqvist',\n",
       "       'Butler', 'Rommetvedt', 'Cook', 'Taylor', 'Davidson', 'Mitchell',\n",
       "       'Wilhelms', 'Watson', 'Edvardsson', 'Sawyer', 'Turja', 'Cardeza',\n",
       "       'Peters', 'Hassab', 'Olsvigen', 'Dakic', 'Fischer', 'Madill',\n",
       "       'Dick', 'Karun', 'Lam', 'Saad', 'Weir', 'Mullens', 'Humblen',\n",
       "       'Astor', 'Silverthorne', 'Gallagher', 'Calderhead', 'Cleaver',\n",
       "       'Mayne', 'Klaber', 'Greenberg', 'Soholt', 'Endres', 'Troutt',\n",
       "       'McEvoy', 'Gillespie', 'Hodges', 'Chambers', 'Mannion', 'Bryhl',\n",
       "       'Ilmakangas', 'Hassan', 'Knight', 'Berriman', 'Troupiansky',\n",
       "       'Lesurer', 'Ivanoff', 'Nankoff', 'Hawksford', 'Cavendish',\n",
       "       'McNamee', 'Stranden', 'Sinkkonen', 'Marvin', 'Connaghton', 'Wells',\n",
       "       'Moor', 'Vande Velde', 'Jonkoff', 'Carlsson', 'Bailey', 'Theobald',\n",
       "       'Rothes', 'Garfirth', 'Nirva', 'Barah', 'Eklund', 'Hogeboom',\n",
       "       'Brewe', 'Mangan', 'Gronnestad', 'Lievens', 'Mack', 'Myhrman',\n",
       "       'Tobin', 'Emanuel', 'Kilgannon', 'Robert', 'Ayoub', 'Long',\n",
       "       'Johnston', 'Harmer', 'Sjoblom', 'Guggenheim', 'Gaskell',\n",
       "       'Dantcheff', 'Otter', 'Leader', 'Osman', 'Ibrahim Shawah',\n",
       "       'Ponesell', 'Thomas', 'Hedman', 'Pettersson', 'Alexander', 'Lester',\n",
       "       'Slemen', 'Tomlin', 'Fry', 'Heininen', 'Mallet', 'Holm', 'Lulic',\n",
       "       'Reuchlin', 'McCormack', 'Stone', 'Augustsson', 'Allum', 'Compton',\n",
       "       'Pasic', 'Sirota', 'Chip', 'Marechal', 'Alhomaki', 'Mudd',\n",
       "       'Serepeca', 'Lemberopolous', 'Culumovic', 'Abbing', 'Markoff',\n",
       "       'Lines', 'Aks', 'Razi', 'Giles', 'Swift', 'Gill', 'Bystrom',\n",
       "       'Duran y More', 'Roebling', 'van Melkebeke', 'Balkic',\n",
       "       'Vander Cruyssen', 'Najib', 'Laleff', 'Potter', 'Shelley', 'Markun',\n",
       "       'Dahlberg', 'Banfield', 'Sutehall', 'Montvila', 'Behr', 'Dooley'], dtype=object)"
      ]
     },
     "execution_count": 31,
     "metadata": {},
     "output_type": "execute_result"
    }
   ],
   "source": [
    "raw['Surnames'].unique()"
   ]
  },
  {
   "cell_type": "code",
   "execution_count": null,
   "metadata": {
    "collapsed": true
   },
   "outputs": [],
   "source": []
  }
 ],
 "metadata": {
  "kernelspec": {
   "display_name": "Python 2",
   "language": "python",
   "name": "python2"
  },
  "language_info": {
   "codemirror_mode": {
    "name": "ipython",
    "version": 2
   },
   "file_extension": ".py",
   "mimetype": "text/x-python",
   "name": "python",
   "nbconvert_exporter": "python",
   "pygments_lexer": "ipython2",
   "version": "2.7.6"
  }
 },
 "nbformat": 4,
 "nbformat_minor": 0
}
